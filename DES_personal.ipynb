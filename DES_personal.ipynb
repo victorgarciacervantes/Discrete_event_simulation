{
 "cells": [
  {
   "cell_type": "code",
   "execution_count": 1,
   "id": "f7e726ce-eb6e-49af-9885-3682fb02eaf3",
   "metadata": {},
   "outputs": [],
   "source": [
    "from numpy import random, zeros"
   ]
  },
  {
   "cell_type": "code",
   "execution_count": 19,
   "id": "f27fc4c0-118d-4578-989a-980cec9ccfef",
   "metadata": {},
   "outputs": [],
   "source": [
    "def queue(l,u,N,c):\n",
    "    \n",
    "    ### from github code, doesnt make costumers wait\n",
    "    \n",
    "    inter_arrival_times= random.exponential(scale=1/l, size=N)\n",
    "    service_times= random.exponential(scale=1/u, size= N)\n",
    "    \n",
    "    arrival_times=zeros(N)\n",
    "    arrival_times[0]=inter_arrival_times[0]\n",
    "    \n",
    "    departure_times=zeros(N)\n",
    "    departure_times[0]=arrival_times[0]+service_times[0]\n",
    "    \n",
    "    for i in range(1,N):\n",
    "        arrival_times[i]=arrival_times[i-1]+ inter_arrival_times[i]\n",
    "        departure_times[i]=arrival_times[i]+service_times[i]\n",
    "        \n",
    "    total_times=departure_times-arrival_times\n",
    "    waiting_times=total_times-service_times\n",
    "\n",
    "    return inter_arrival_times, service_times, arrival_times, departure_times, total_times, waiting_times"
   ]
  },
  {
   "cell_type": "code",
   "execution_count": 20,
   "id": "8151cded-ab05-421a-a196-662f28c935b5",
   "metadata": {},
   "outputs": [
    {
     "data": {
      "text/plain": [
       "(array([0.69566097, 2.52957016, 6.1006207 , 1.81087423, 0.11737018,\n",
       "        0.55408165, 0.95605533, 0.56576782, 0.65314805, 1.50813935]),\n",
       " array([1.19071586, 0.98256119, 1.00011645, 0.53554553, 1.93044743,\n",
       "        0.02138211, 0.05960712, 0.30238962, 0.25286218, 2.34747144]),\n",
       " array([ 0.69566097,  3.22523113,  9.32585183, 11.13672606, 11.25409624,\n",
       "        11.80817789, 12.76423322, 13.33000104, 13.98314909, 15.49128845]),\n",
       " array([ 1.88637683,  4.20779232, 10.32596828, 11.67227159, 13.18454367,\n",
       "        11.82956   , 12.82384034, 13.63239066, 14.23601127, 17.83875989]),\n",
       " array([1.19071586, 0.98256119, 1.00011645, 0.53554553, 1.93044743,\n",
       "        0.02138211, 0.05960712, 0.30238962, 0.25286218, 2.34747144]),\n",
       " array([ 0.00000000e+00, -2.22044605e-16, -2.22044605e-16,  4.44089210e-16,\n",
       "         0.00000000e+00, -6.07153217e-16,  2.35922393e-16,  8.32667268e-16,\n",
       "         3.88578059e-16, -4.44089210e-16]))"
      ]
     },
     "execution_count": 20,
     "metadata": {},
     "output_type": "execute_result"
    }
   ],
   "source": [
    "queue(1,2,10,1)"
   ]
  },
  {
   "cell_type": "code",
   "execution_count": 17,
   "id": "a6d47d1d-2588-42e1-9c4f-4bec2717f4ea",
   "metadata": {},
   "outputs": [
    {
     "ename": "IndentationError",
     "evalue": "expected an indented block after function definition on line 3 (2051256071.py, line 4)",
     "output_type": "error",
     "traceback": [
      "\u001b[1;36m  Cell \u001b[1;32mIn[17], line 4\u001b[1;36m\u001b[0m\n\u001b[1;33m    t=0\u001b[0m\n\u001b[1;37m    ^\u001b[0m\n\u001b[1;31mIndentationError\u001b[0m\u001b[1;31m:\u001b[0m expected an indented block after function definition on line 3\n"
     ]
    }
   ],
   "source": [
    "    ####### from Ross book\n",
    "\n",
    "def queue2(l,u,N,T):\n",
    "    t=0\n",
    "    \n",
    "    N_A, N_D= 0, 0\n",
    "    t_A=random.exponential(1/l)\n",
    "    A=zeros(N)\n",
    "    D=zeros(N)\n",
    "\n",
    "    while min(t_A, t_D)<T:\n",
    "        if t_A<=t_D & t_A<=T:\n",
    "            t=t_A\n",
    "            N_A+=1\n",
    "            n+=1\n",
    "            A[N_A]=t\n",
    "            t_A=t+random.exponential(1/l)\n",
    "            if n==1:\n",
    "                t_D=t+random.exponential(1/u)\n",
    "\n",
    "        elif t_D<t_A & t_D<T:\n",
    "            t=t_D\n",
    "            n-=1\n",
    "            N_D+=1\n",
    "            if n==0:\n",
    "                t_D=10**5\n",
    "            else:\n",
    "                t_D=t+random.exponential(1/u)   \n",
    "\n",
    "    if n=0: \n",
    "        T_p=max(t-T,0)\n",
    "    else:\n",
    "        t=t_D\n",
    "        n-=1\n",
    "        N_D+=1\n",
    "        D[N_D]=t\n",
    "        \n",
    "\n",
    "    return A,D,T_p"
   ]
  },
  {
   "cell_type": "code",
   "execution_count": 6,
   "id": "fa4c4306-22fb-40e4-bb1a-24b1d6791f22",
   "metadata": {},
   "outputs": [
    {
     "ename": "NameError",
     "evalue": "name 'queue2' is not defined",
     "output_type": "error",
     "traceback": [
      "\u001b[1;31m---------------------------------------------------------------------------\u001b[0m",
      "\u001b[1;31mNameError\u001b[0m                                 Traceback (most recent call last)",
      "Cell \u001b[1;32mIn[6], line 1\u001b[0m\n\u001b[1;32m----> 1\u001b[0m queue2(\u001b[38;5;241m1\u001b[39m,\u001b[38;5;241m2\u001b[39m,\u001b[38;5;241m10\u001b[39m,\u001b[38;5;241m100\u001b[39m)\n",
      "\u001b[1;31mNameError\u001b[0m: name 'queue2' is not defined"
     ]
    }
   ],
   "source": [
    "queue"
   ]
  },
  {
   "cell_type": "code",
   "execution_count": null,
   "id": "e8fbe730-ea75-46b5-b219-1e2827782dd3",
   "metadata": {},
   "outputs": [],
   "source": []
  }
 ],
 "metadata": {
  "kernelspec": {
   "display_name": "Python 3 (ipykernel)",
   "language": "python",
   "name": "python3"
  },
  "language_info": {
   "codemirror_mode": {
    "name": "ipython",
    "version": 3
   },
   "file_extension": ".py",
   "mimetype": "text/x-python",
   "name": "python",
   "nbconvert_exporter": "python",
   "pygments_lexer": "ipython3",
   "version": "3.11.7"
  }
 },
 "nbformat": 4,
 "nbformat_minor": 5
}
