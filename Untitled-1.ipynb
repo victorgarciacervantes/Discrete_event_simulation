{
 "cells": [
  {
   "cell_type": "code",
   "execution_count": 1,
   "metadata": {},
   "outputs": [
    {
     "data": {
      "text/plain": [
       "1"
      ]
     },
     "execution_count": 1,
     "metadata": {},
     "output_type": "execute_result"
    }
   ],
   "source": [
    "x=1\n",
    "x**2"
   ]
  },
  {
   "cell_type": "markdown",
   "metadata": {},
   "source": [
    "This is an example from simpy."
   ]
  },
  {
   "cell_type": "code",
   "execution_count": 1,
   "metadata": {},
   "outputs": [
    {
     "name": "stdout",
     "output_type": "stream",
     "text": [
      "Bank renege\n",
      " 0.0000 Customer00: Here I am\n",
      " 0.0000 Customer00: Waited  0.000\n",
      " 3.8595 Customer00: Finished\n",
      "10.2006 Customer01: Here I am\n",
      "10.2006 Customer01: Waited  0.000\n",
      "12.7265 Customer02: Here I am\n",
      "13.9003 Customer02: RENEGED after  1.174\n",
      "23.7507 Customer01: Finished\n",
      "34.9993 Customer03: Here I am\n",
      "34.9993 Customer03: Waited  0.000\n",
      "37.9599 Customer03: Finished\n",
      "40.4798 Customer04: Here I am\n",
      "40.4798 Customer04: Waited  0.000\n",
      "43.1401 Customer04: Finished\n"
     ]
    }
   ],
   "source": [
    "\"\"\"\n",
    "Bank renege example\n",
    "\n",
    "Covers:\n",
    "\n",
    "- Resources: Resource\n",
    "- Condition events\n",
    "\n",
    "Scenario:\n",
    "  A counter with a random service time and customers who renege. Based on the\n",
    "  program bank08.py from TheBank tutorial of SimPy 2. (KGM)\n",
    "\n",
    "\"\"\"\n",
    "\n",
    "import random\n",
    "\n",
    "import simpy\n",
    "\n",
    "RANDOM_SEED = 42\n",
    "NEW_CUSTOMERS = 5  # Total number of customers\n",
    "INTERVAL_CUSTOMERS = 10.0  # Generate new customers roughly every x seconds\n",
    "MIN_PATIENCE = 1  # Min. customer patience\n",
    "MAX_PATIENCE = 3  # Max. customer patience\n",
    "\n",
    "\n",
    "def source(env, number, interval, counter):\n",
    "    \"\"\"Source generates customers randomly\"\"\"\n",
    "    for i in range(number):\n",
    "        c = customer(env, f'Customer{i:02d}', counter, time_in_bank=12.0)\n",
    "        env.process(c)\n",
    "        t = random.expovariate(1.0 / interval)\n",
    "        yield env.timeout(t)\n",
    "\n",
    "\n",
    "def customer(env, name, counter, time_in_bank):\n",
    "    \"\"\"Customer arrives, is served and leaves.\"\"\"\n",
    "    arrive = env.now\n",
    "    print(f'{arrive:7.4f} {name}: Here I am')\n",
    "\n",
    "    with counter.request() as req:\n",
    "        patience = random.uniform(MIN_PATIENCE, MAX_PATIENCE)\n",
    "        # Wait for the counter or abort at the end of our tether\n",
    "        results = yield req | env.timeout(patience)\n",
    "\n",
    "        wait = env.now - arrive\n",
    "\n",
    "        if req in results:\n",
    "            # We got to the counter\n",
    "            print(f'{env.now:7.4f} {name}: Waited {wait:6.3f}')\n",
    "\n",
    "            tib = random.expovariate(1.0 / time_in_bank)\n",
    "            yield env.timeout(tib)\n",
    "            print(f'{env.now:7.4f} {name}: Finished')\n",
    "\n",
    "        else:\n",
    "            # We reneged\n",
    "            print(f'{env.now:7.4f} {name}: RENEGED after {wait:6.3f}')\n",
    "\n",
    "\n",
    "# Setup and start the simulation\n",
    "print('Bank renege')\n",
    "random.seed(RANDOM_SEED)\n",
    "env = simpy.Environment()\n",
    "\n",
    "# Start processes and run\n",
    "counter = simpy.Resource(env, capacity=1)\n",
    "env.process(source(env, NEW_CUSTOMERS, INTERVAL_CUSTOMERS, counter))\n",
    "env.run()"
   ]
  },
  {
   "cell_type": "markdown",
   "metadata": {},
   "source": [
    "The following is from ChatGPT."
   ]
  },
  {
   "cell_type": "code",
   "execution_count": 6,
   "metadata": {},
   "outputs": [],
   "source": [
    "import simpy\n",
    "import random\n",
    "\n",
    "# Customer class to model the customers arriving at the system\n",
    "class Customer:\n",
    "    def __init__(self, arrival_time):\n",
    "        self.arrival_time = arrival_time\n",
    "        self.wait_time = 0\n",
    "        self.service_time = 0\n",
    "        self.system_time = 0\n",
    "\n",
    "def customer_arrivals(env, servers):\n",
    "    \"\"\"Handles the arrival of customers.\"\"\"\n",
    "    customer_id = 0\n",
    "    while True:\n",
    "        customer_id += 1\n",
    "        arrival_time = env.now\n",
    "        customer = Customer(arrival_time)\n",
    "        print(f\"Time {env.now:.2f}: Customer {customer_id} arrives.\")\n",
    "        env.process(customer_service(env, customer, servers, customer_id))\n",
    "        yield env.timeout(random.expovariate(l))  # Exponential inter-arrival time\n",
    "\n",
    "def customer_service(env, customer, servers, customer_id):\n",
    "    \"\"\"Simulates the service of a customer.\"\"\"\n",
    "    # Request a server\n",
    "    with servers.request() as request:\n",
    "        print(f\"Time {env.now:.2f}: Customer {customer_id} waits for a server.\")\n",
    "        yield request  # Wait for a free server\n",
    "        \n",
    "        # Customer starts service\n",
    "        wait_time = env.now - customer.arrival_time\n",
    "        customer.wait_time = wait_time\n",
    "        service_time = random.expovariate(u)  # Exponential service time\n",
    "        customer.service_time = service_time\n",
    "        print(f\"Time {env.now:.2f}: Customer {customer_id} starts service. Wait time = {wait_time:.2f}, Service time = {service_time:.2f}\")\n",
    "\n",
    "        # Simulate service time\n",
    "        yield env.timeout(service_time)\n",
    "        \n",
    "        # Customer completes service\n",
    "        customer.system_time = env.now - customer.arrival_time\n",
    "        print(f\"Time {env.now:.2f}: Customer {customer_id} finishes service. Total time in system = {customer.system_time:.2f}\")\n",
    "\n",
    "        # Store results\n",
    "        waiting_times.append(customer.wait_time)\n",
    "        system_times.append(customer.system_time)\n"
   ]
  },
  {
   "cell_type": "code",
   "execution_count": 8,
   "metadata": {},
   "outputs": [
    {
     "name": "stdout",
     "output_type": "stream",
     "text": [
      "Time 0.00: Customer 1 arrives.\n",
      "Time 0.00: Customer 1 waits for a server.\n",
      "Time 0.00: Customer 1 starts service. Wait time = 0.00, Service time = 4.92\n",
      "Time 0.86: Customer 2 arrives.\n",
      "Time 0.86: Customer 2 waits for a server.\n",
      "Time 0.86: Customer 2 starts service. Wait time = 0.00, Service time = 3.81\n",
      "Time 1.21: Customer 3 arrives.\n",
      "Time 1.21: Customer 3 waits for a server.\n",
      "Time 2.28: Customer 4 arrives.\n",
      "Time 2.28: Customer 4 waits for a server.\n",
      "Time 2.60: Customer 5 arrives.\n",
      "Time 2.60: Customer 5 waits for a server.\n",
      "Time 3.43: Customer 6 arrives.\n",
      "Time 3.43: Customer 6 waits for a server.\n",
      "Time 4.59: Customer 7 arrives.\n",
      "Time 4.59: Customer 7 waits for a server.\n",
      "Time 4.67: Customer 2 finishes service. Total time in system = 3.81\n",
      "Time 4.67: Customer 3 starts service. Wait time = 3.46, Service time = 0.05\n",
      "Time 4.72: Customer 3 finishes service. Total time in system = 3.51\n",
      "Time 4.72: Customer 4 starts service. Wait time = 2.44, Service time = 0.93\n",
      "Time 4.92: Customer 1 finishes service. Total time in system = 4.92\n",
      "Time 4.92: Customer 5 starts service. Wait time = 2.32, Service time = 0.69\n",
      "Time 5.61: Customer 5 finishes service. Total time in system = 3.01\n",
      "Time 5.61: Customer 6 starts service. Wait time = 2.17, Service time = 2.35\n",
      "Time 5.65: Customer 4 finishes service. Total time in system = 3.37\n",
      "Time 5.65: Customer 7 starts service. Wait time = 1.06, Service time = 0.34\n",
      "Time 5.96: Customer 8 arrives.\n",
      "Time 5.96: Customer 8 waits for a server.\n",
      "Time 5.99: Customer 7 finishes service. Total time in system = 1.40\n",
      "Time 5.99: Customer 8 starts service. Wait time = 0.03, Service time = 0.93\n",
      "Time 6.92: Customer 8 finishes service. Total time in system = 0.97\n",
      "Time 7.56: Customer 9 arrives.\n",
      "Time 7.56: Customer 9 waits for a server.\n",
      "Time 7.56: Customer 9 starts service. Wait time = 0.00, Service time = 1.01\n",
      "Time 7.95: Customer 6 finishes service. Total time in system = 4.52\n",
      "Time 8.00: Customer 10 arrives.\n",
      "Time 8.00: Customer 10 waits for a server.\n",
      "Time 8.00: Customer 10 starts service. Wait time = 0.00, Service time = 1.13\n",
      "Time 8.57: Customer 9 finishes service. Total time in system = 1.01\n",
      "Time 8.97: Customer 11 arrives.\n",
      "Time 8.97: Customer 11 waits for a server.\n",
      "Time 8.97: Customer 11 starts service. Wait time = 0.00, Service time = 1.08\n",
      "Time 9.13: Customer 10 finishes service. Total time in system = 1.13\n",
      "\n",
      "Average waiting time: 1.15\n",
      "Average system time: 2.77\n",
      "Total customers served: 10\n"
     ]
    }
   ],
   "source": [
    "# Parameters\n",
    "l = 1  # Rate of customer arrivals (lambda)\n",
    "u = 1  # Rate of service (mu)\n",
    "m = 2  # Number of servers\n",
    "sim_duration = 10  # Simulation duration (in time units)\n",
    "\n",
    "# Lists to store results\n",
    "waiting_times = []\n",
    "system_times = []\n",
    "\n",
    "\n",
    "# Initialize the environment and server pool\n",
    "env = simpy.Environment()\n",
    "servers = simpy.Resource(env, capacity=m)\n",
    "\n",
    "# Start the arrival process\n",
    "env.process(customer_arrivals(env, servers))\n",
    "\n",
    "# Run the simulation\n",
    "env.run(until=sim_duration)\n",
    "\n",
    "# Output the results\n",
    "print(f\"\\nAverage waiting time: {sum(waiting_times) / len(waiting_times):.2f}\")\n",
    "print(f\"Average system time: {sum(system_times) / len(system_times):.2f}\")\n",
    "print(f\"Total customers served: {len(waiting_times)}\")"
   ]
  },
  {
   "cell_type": "code",
   "execution_count": null,
   "metadata": {},
   "outputs": [
    {
     "ename": "SyntaxError",
     "evalue": "invalid syntax (2563569310.py, line 1)",
     "output_type": "error",
     "traceback": [
      "\u001b[0;36m  Cell \u001b[0;32mIn[5], line 1\u001b[0;36m\u001b[0m\n\u001b[0;31m    help random.expovariate\u001b[0m\n\u001b[0m         ^\u001b[0m\n\u001b[0;31mSyntaxError\u001b[0m\u001b[0;31m:\u001b[0m invalid syntax\n"
     ]
    }
   ],
   "source": []
  },
  {
   "cell_type": "code",
   "execution_count": null,
   "metadata": {},
   "outputs": [],
   "source": []
  }
 ],
 "metadata": {
  "kernelspec": {
   "display_name": "Python 3",
   "language": "python",
   "name": "python3"
  },
  "language_info": {
   "codemirror_mode": {
    "name": "ipython",
    "version": 3
   },
   "file_extension": ".py",
   "mimetype": "text/x-python",
   "name": "python",
   "nbconvert_exporter": "python",
   "pygments_lexer": "ipython3",
   "version": "3.12.1"
  }
 },
 "nbformat": 4,
 "nbformat_minor": 2
}
